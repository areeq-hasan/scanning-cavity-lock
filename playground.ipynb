{
 "cells": [
  {
   "cell_type": "code",
   "execution_count": null,
   "metadata": {},
   "outputs": [],
   "source": [
    "from pyrpl import Pyrpl"
   ]
  }
 ],
 "metadata": {
  "kernelspec": {
   "display_name": "scanning-cavity-lock-umqhfNSN-py3.10",
   "language": "python",
   "name": "python3"
  },
  "language_info": {
   "codemirror_mode": {
    "name": "ipython",
    "version": 3
   },
   "file_extension": ".py",
   "mimetype": "text/x-python",
   "name": "python",
   "nbconvert_exporter": "python",
   "pygments_lexer": "ipython3",
   "version": "3.10.7"
  },
  "orig_nbformat": 4,
  "vscode": {
   "interpreter": {
    "hash": "1ace7abc90ec0d1afd0691c430c35b443f5259ff8bf1b9e2e6375864a1f5cee5"
   }
  }
 },
 "nbformat": 4,
 "nbformat_minor": 2
}
